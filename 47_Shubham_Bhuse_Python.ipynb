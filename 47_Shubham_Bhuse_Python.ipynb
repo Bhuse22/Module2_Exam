{
 "cells": [
  {
   "cell_type": "markdown",
   "id": "b2db5a39",
   "metadata": {},
   "source": [
    "### Q.1) Convert given hrs & mins in second"
   ]
  },
  {
   "cell_type": "code",
   "execution_count": 3,
   "id": "157f0430",
   "metadata": {},
   "outputs": [
    {
     "name": "stdout",
     "output_type": "stream",
     "text": [
      "enter in hrs:1\n",
      "enter in min:10\n",
      "hrs and min in seconds: 4200\n"
     ]
    }
   ],
   "source": [
    "hrs=int(input(\"enter in hrs:\"))\n",
    "minute=int(input(\"enter in min:\"))\n",
    "\n",
    "sec1=hrs*3600\n",
    "sec2=minute*60\n",
    "seconds=sec1+sec2\n",
    "print(\"hrs and min in seconds:\",seconds)\n"
   ]
  },
  {
   "cell_type": "markdown",
   "id": "63f74990",
   "metadata": {},
   "source": [
    "### Q.2) Write code to find the average of ‘n’ numbers entered by the user to function avg ( )."
   ]
  },
  {
   "cell_type": "code",
   "execution_count": null,
   "id": "ac91bfc7",
   "metadata": {},
   "outputs": [],
   "source": [
    "\n",
    "    "
   ]
  },
  {
   "cell_type": "markdown",
   "id": "eb73d160",
   "metadata": {},
   "source": [
    "### Q.4) Write a code to accept a number & print in words."
   ]
  },
  {
   "cell_type": "code",
   "execution_count": 23,
   "id": "bc658749",
   "metadata": {},
   "outputs": [
    {
     "name": "stdout",
     "output_type": "stream",
     "text": [
      "Enter number:5\n",
      "Five\n"
     ]
    }
   ],
   "source": [
    "num=int(input(\"Enter number:\"))\n",
    "list=['zero','One','two',\"Three\",\"Four\",\"Five\",\"Six\",'Seven','Eight','Nine','Ten']\n",
    "for i in range(0,len(list)+1):\n",
    "    if i==num:\n",
    "        print(list[i])"
   ]
  },
  {
   "cell_type": "markdown",
   "id": "88478ffe",
   "metadata": {},
   "source": [
    "### Q.5) Create class "
   ]
  },
  {
   "cell_type": "code",
   "execution_count": null,
   "id": "c5d8997a",
   "metadata": {},
   "outputs": [],
   "source": [
    "class math:\n",
    "    def__init__(self,a,b):\n",
    "        self.a=a\n",
    "        self.b=b\n",
    "    def Add(self):\n",
    "        return self.a+self.b\n",
    "    def Sub(self):\n",
    "        return self.a-self.b\n",
    "    def Mul(self):\n",
    "        return self.a*self.b\n",
    "    def Div(self):\n",
    "        return self.a/self.b"
   ]
  },
  {
   "cell_type": "markdown",
   "id": "7b263e74",
   "metadata": {},
   "source": [
    "### Q.7) Convert Paise in Rupees & Paises\n"
   ]
  },
  {
   "cell_type": "code",
   "execution_count": 48,
   "id": "38fef725",
   "metadata": {},
   "outputs": [
    {
     "name": "stdout",
     "output_type": "stream",
     "text": [
      "Enter in integer350\n",
      "3 Rupees 50 Paise\n",
      "Enter in float 3.5\n",
      "3 Rupees 50 Paise\n"
     ]
    }
   ],
   "source": [
    "n1=int(input(\"Enter in integer\"))\n",
    "\n",
    "Q=n1//100\n",
    "rem=n1%100\n",
    "print(Q,\"Rupees\",rem,\"Paise\")\n",
    "\n",
    "n1=float(input(\"Enter in float \"))\n",
    "n1=int(n1*100)\n",
    "Q=n1//100\n",
    "rem=n1%100\n",
    "print(Q,\"Rupees\",rem,\"Paise\")"
   ]
  },
  {
   "cell_type": "markdown",
   "id": "0b1a2bb6",
   "metadata": {},
   "source": [
    "###  Q.8) Print\n",
    "### 1\n",
    "### 3 3\n",
    "### 5 5 5\n",
    "### 6 6 6 6\n",
    "### 7 7 7 7 7"
   ]
  },
  {
   "cell_type": "code",
   "execution_count": 25,
   "id": "19ce7b51",
   "metadata": {},
   "outputs": [
    {
     "name": "stdout",
     "output_type": "stream",
     "text": [
      "1\n",
      "33\n",
      "555\n",
      "6666\n",
      "77777\n"
     ]
    }
   ],
   "source": [
    "number='13567'\n",
    "for i in range(0,len(number)):\n",
    "    print(number[i]*(i+1))"
   ]
  },
  {
   "cell_type": "markdown",
   "id": "88924f9d",
   "metadata": {},
   "source": [
    "### Q.9) Accept String & print only alternate characters on a string."
   ]
  },
  {
   "cell_type": "code",
   "execution_count": 49,
   "id": "e8b4070c",
   "metadata": {},
   "outputs": [
    {
     "name": "stdout",
     "output_type": "stream",
     "text": [
      "enter a string: shubhambhuse\n",
      "Alternate char: hbabue\n"
     ]
    }
   ],
   "source": [
    "string=input(\"enter a string: \")\n",
    "print(\"Alternate char:\",string[1::2])\n"
   ]
  },
  {
   "cell_type": "markdown",
   "id": "a2da6bd1",
   "metadata": {},
   "source": [
    "### Q.10) Create menu driven code for\n",
    "1) Accept 2 numbers\n",
    "2) Add\n",
    "3) Sub\n",
    "4) Mul\n",
    "5) Div"
   ]
  },
  {
   "cell_type": "code",
   "execution_count": 31,
   "id": "a871b010",
   "metadata": {},
   "outputs": [
    {
     "name": "stdout",
     "output_type": "stream",
     "text": [
      "Enter number:1\n",
      "Enter number:10\n",
      "Enter number:20\n",
      "num1 10\n",
      "num2 20\n",
      "Enter choice [ 2) Add 3) Sub 4) Mul 5) Div ]:4\n",
      "Multiplication 200\n"
     ]
    }
   ],
   "source": [
    "n=int(input(\"Enter number:\"))\n",
    "if n==1:\n",
    "    num1=int(input(\"Enter number:\"))\n",
    "    num2=int(input(\"Enter number:\"))\n",
    "    print(\"num1\",num1)\n",
    "    print(\"num2\",num2)\n",
    "    n=int(input(\"Enter choice [ 2) Add 3) Sub 4) Mul 5) Div ]:\"))\n",
    "    if n==2:\n",
    "        Add=num1+num2\n",
    "        print(\"Addition\",Add)\n",
    "    elif n==3:\n",
    "        Sub=num1-num2\n",
    "        print(\"Sub\",Sub)\n",
    "    elif n==4:\n",
    "        Mul=num1*num2\n",
    "        print(\"Multiplication\",Mul)\n",
    "    elif n==5:\n",
    "        Div=num1/num2\n",
    "        print(\"Division\",Div)\n",
    "else:\n",
    "    print(\"please Enter number 1\")\n"
   ]
  },
  {
   "cell_type": "code",
   "execution_count": null,
   "id": "2ad2728f",
   "metadata": {},
   "outputs": [],
   "source": []
  }
 ],
 "metadata": {
  "kernelspec": {
   "display_name": "Python 3 (ipykernel)",
   "language": "python",
   "name": "python3"
  },
  "language_info": {
   "codemirror_mode": {
    "name": "ipython",
    "version": 3
   },
   "file_extension": ".py",
   "mimetype": "text/x-python",
   "name": "python",
   "nbconvert_exporter": "python",
   "pygments_lexer": "ipython3",
   "version": "3.9.7"
  }
 },
 "nbformat": 4,
 "nbformat_minor": 5
}
